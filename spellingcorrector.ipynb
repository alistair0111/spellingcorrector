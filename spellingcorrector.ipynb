{
 "cells": [
  {
   "cell_type": "code",
   "execution_count": 1,
   "metadata": {},
   "outputs": [],
   "source": [
    "from textblob import TextBlob"
   ]
  },
  {
   "cell_type": "code",
   "execution_count": 17,
   "metadata": {
    "scrolled": true
   },
   "outputs": [
    {
     "name": "stdout",
     "output_type": "stream",
     "text": [
      "filename: sample.txt\n",
      "helloi progammers.\n",
      "Original Text : helloi progammers.\n"
     ]
    }
   ],
   "source": [
    "filename = input (\"filename: \");\n",
    "with open (filename, \"w+\") as f:\n",
    "    f.write (input ())\n",
    "f=open(filename,\"r+\")\n",
    "a=f.read()\n",
    "\n",
    "print(\"Original Text :\",str(a))"
   ]
  },
  {
   "cell_type": "code",
   "execution_count": 18,
   "metadata": {
    "scrolled": true
   },
   "outputs": [
    {
     "name": "stdout",
     "output_type": "stream",
     "text": [
      "Corrected text: \n",
      "hello progammers.\n"
     ]
    }
   ],
   "source": [
    "b=TextBlob(a)\n",
    "\n",
    "print(\"Corrected text: \\n\"+str(b.correct()))\n",
    "\n",
    "f.close()"
   ]
  },
  {
   "cell_type": "code",
   "execution_count": 19,
   "metadata": {},
   "outputs": [
    {
     "name": "stdout",
     "output_type": "stream",
     "text": [
      "filename: samplesol.txt\n"
     ]
    }
   ],
   "source": [
    "try:\n",
    "    filename = input (\"filename: \");\n",
    "    with open (filename, \"w+\") as f:\n",
    "        f.write (str(b.correct()))\n",
    "    f.close()\n",
    "\n",
    "except:\n",
    "    print(\"Something went wrong when opening/writing to the file\")"
   ]
  },
  {
   "cell_type": "code",
   "execution_count": null,
   "metadata": {},
   "outputs": [],
   "source": []
  }
 ],
 "metadata": {
  "kernelspec": {
   "display_name": "Python 3",
   "language": "python",
   "name": "python3"
  },
  "language_info": {
   "codemirror_mode": {
    "name": "ipython",
    "version": 3
   },
   "file_extension": ".py",
   "mimetype": "text/x-python",
   "name": "python",
   "nbconvert_exporter": "python",
   "pygments_lexer": "ipython3",
   "version": "3.7.3"
  }
 },
 "nbformat": 4,
 "nbformat_minor": 2
}
